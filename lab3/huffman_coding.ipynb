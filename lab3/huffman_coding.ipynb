{
 "cells": [
  {
   "cell_type": "markdown",
   "metadata": {},
   "source": [
    "# Lossless compression – Huffman coding\n",
    "\n",
    "## Author @addobosz"
   ]
  },
  {
   "cell_type": "code",
   "execution_count": 33,
   "metadata": {},
   "outputs": [],
   "source": [
    "from queue import PriorityQueue"
   ]
  },
  {
   "cell_type": "code",
   "execution_count": 34,
   "metadata": {},
   "outputs": [],
   "source": [
    "def load_file(path):\n",
    "    f = open(path, \"r\")\n",
    "    return f.read()"
   ]
  },
  {
   "cell_type": "code",
   "execution_count": 35,
   "metadata": {},
   "outputs": [],
   "source": [
    "norm_wiki_sample = load_file(\"norm_wiki_sample.txt\")"
   ]
  },
  {
   "cell_type": "code",
   "execution_count": 36,
   "metadata": {},
   "outputs": [],
   "source": [
    "def create_frequency_dict(text):\n",
    "    freq_dict = {}\n",
    "    for char in text:\n",
    "        if char in freq_dict:\n",
    "            freq_dict[char] += 1\n",
    "        else:\n",
    "            freq_dict[char] = 1\n",
    "    return freq_dict"
   ]
  },
  {
   "cell_type": "code",
   "execution_count": 37,
   "metadata": {},
   "outputs": [],
   "source": [
    "norm_wiki_sample_freq_dict = create_frequency_dict(norm_wiki_sample)"
   ]
  },
  {
   "cell_type": "code",
   "execution_count": 38,
   "metadata": {},
   "outputs": [],
   "source": [
    "class Node():\n",
    "    def __init__(self, key, val, left_node, right_node):\n",
    "        self.key = key\n",
    "        self.val = val\n",
    "        self.left_node = left_node\n",
    "        self.right_node = right_node\n",
    "\n",
    "    def __gt__(self, other):\n",
    "        return self.val > other.val\n",
    "    \n",
    "    def __lt__(self, other):\n",
    "        return self.val < other.val\n",
    "    \n",
    "    def __repr__(self):\n",
    "        return f\"Node(key: {self.key}, freq: {self.val})\"\n",
    "    \n",
    "\n"
   ]
  },
  {
   "cell_type": "code",
   "execution_count": 71,
   "metadata": {},
   "outputs": [],
   "source": [
    "class HuffmanTree:\n",
    "    def __init__(self, freq_dict):\n",
    "        self.freq_dict = freq_dict\n",
    "        self.Q = PriorityQueue()\n",
    "        self.root = self.create_tree()\n",
    "        self.char_to_code_dict = {}\n",
    "        self.code_to_char_dict = {}\n",
    "\n",
    "    \n",
    "    def create_tree(self):\n",
    "        # initialize queue\n",
    "        for key, value in self.freq_dict.items():\n",
    "            self.Q.put(Node(key, value, None, None))\n",
    "        \n",
    "        # create tree    \n",
    "        while self.Q.qsize() > 1:\n",
    "            left = self.Q.get()\n",
    "            right = self.Q.get()\n",
    "            self.Q.put(Node(left.key + right.key, left.val + right.val, left, right))\n",
    "        return self.Q.get()\n",
    "    \n",
    "    def create_code_dict(self):\n",
    "        def traverse_tree(node, code):\n",
    "            if node.left_node == None and node.right_node == None:\n",
    "                # add code to dict only if node is a leaf\n",
    "                self.char_to_code_dict[node.key] = code\n",
    "            else:\n",
    "                traverse_tree(node.left_node, code + '0')\n",
    "                traverse_tree(node.right_node, code + '1')\n",
    "        traverse_tree(self.root, '')\n",
    "\n",
    "    def encode(self, text):\n",
    "        if self.char_to_code_dict == {}:\n",
    "            self.create_code_dict()\n",
    "\n",
    "        encoded_text = ''\n",
    "        for char in text:\n",
    "            encoded_text += self.char_to_code_dict[char]\n",
    "\n",
    "        return encoded_text\n",
    "\n",
    "\n",
    "    def decode(self, code):\n",
    "        # initialize dict mapping binary code to char\n",
    "        if self.code_to_char_dict == {}:\n",
    "            if self.char_to_code_dict == {}:\n",
    "                self.create_code_dict()\n",
    "            for key, value in self.char_to_code_dict.items():\n",
    "                self.code_to_char_dict[value] = key\n",
    "        \n",
    "        decoded_text = ''\n",
    "        \n",
    "        curr_bit_sequence = ''\n",
    "        for bit in code:\n",
    "            curr_bit_sequence += bit\n",
    "            if self.code_to_char_dict.get(curr_bit_sequence):\n",
    "                decoded_text += self.code_to_char_dict[curr_bit_sequence]\n",
    "                curr_bit_sequence = ''\n",
    "            \n",
    "        \n",
    "        return decoded_text"
   ]
  },
  {
   "cell_type": "code",
   "execution_count": 74,
   "metadata": {},
   "outputs": [],
   "source": [
    "tree = HuffmanTree(norm_wiki_sample_freq_dict)"
   ]
  },
  {
   "cell_type": "markdown",
   "metadata": {},
   "source": [
    "Demonstration of encoding mechanism:"
   ]
  },
  {
   "cell_type": "code",
   "execution_count": 69,
   "metadata": {},
   "outputs": [
    {
     "name": "stdout",
     "output_type": "stream",
     "text": [
      "0011000010010101000101011100110001101101000110111000011101001000\n"
     ]
    }
   ],
   "source": [
    "print(tree.encode(\"secret sequence\"))"
   ]
  },
  {
   "cell_type": "markdown",
   "metadata": {},
   "source": [
    "Demonstration of decoding mechanism:"
   ]
  },
  {
   "cell_type": "code",
   "execution_count": 75,
   "metadata": {},
   "outputs": [
    {
     "name": "stdout",
     "output_type": "stream",
     "text": [
      "secret sequence\n"
     ]
    }
   ],
   "source": [
    "print(tree.decode(\"0011000010010101000101011100110001101101000110111000011101001000\"))"
   ]
  },
  {
   "cell_type": "markdown",
   "metadata": {},
   "source": [
    "Binary codes assigned to characters:"
   ]
  },
  {
   "cell_type": "code",
   "execution_count": 79,
   "metadata": {},
   "outputs": [
    {
     "name": "stdout",
     "output_type": "stream",
     "text": [
      "{'e': '000', 'm': '00100', 'y': '001010', 'k': '0010110', '4': '001011100', 'x': '001011101', '5': '001011110', '3': '001011111', 's': '0011', 'w': '010000', 'b': '010001', 'c': '01001', 'r': '0101', 'o': '0110', 'n': '0111', 'i': '1000', 'd': '10010', '2': '10011000', '9': '10011001', 'v': '1001101', 'g': '100111', 't': '1010', 'p': '101100', 'f': '101101', 'l': '10111', 'a': '1100', 'h': '11010', '8': '110110000', 'j': '110110001', '0': '11011001', 'q': '1101101000', 'z': '1101101001', '6': '1101101010', '7': '1101101011', '1': '11011011', 'u': '110111', ' ': '111'}\n"
     ]
    }
   ],
   "source": [
    "print(tree.char_to_code_dict)"
   ]
  },
  {
   "cell_type": "markdown",
   "metadata": {},
   "source": [
    "Compress the text corpus, and compare it with the number of bits of a shortest possible fixed-length encoding:"
   ]
  },
  {
   "cell_type": "code",
   "execution_count": 81,
   "metadata": {},
   "outputs": [
    {
     "name": "stdout",
     "output_type": "stream",
     "text": [
      "Number of bits used to store the compressed text:  46489714\n",
      "Number of bits used to store the shortest possible fixed-length encoding (in this case, ASCII - one byte for each character):  86311528\n",
      "Compression ratio:  1.8565725743118144\n"
     ]
    }
   ],
   "source": [
    "print(\"Number of bits used to store the compressed text: \", len(tree.encode(norm_wiki_sample)))\n",
    "print(\"Number of bits used to store the shortest possible fixed-length encoding (in this case, ASCII - one byte for each character): \", len(norm_wiki_sample) * 8)\n",
    "print(\"Compression ratio: \", len(norm_wiki_sample) * 8 / len(tree.encode(norm_wiki_sample)))"
   ]
  }
 ],
 "metadata": {
  "kernelspec": {
   "display_name": "Python 3",
   "language": "python",
   "name": "python3"
  },
  "language_info": {
   "codemirror_mode": {
    "name": "ipython",
    "version": 3
   },
   "file_extension": ".py",
   "mimetype": "text/x-python",
   "name": "python",
   "nbconvert_exporter": "python",
   "pygments_lexer": "ipython3",
   "version": "3.10.12"
  }
 },
 "nbformat": 4,
 "nbformat_minor": 2
}
