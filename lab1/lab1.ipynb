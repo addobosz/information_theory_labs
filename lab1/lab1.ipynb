{
 "cells": [
  {
   "cell_type": "markdown",
   "metadata": {},
   "source": [
    "# The author of this homework is @addobosz"
   ]
  },
  {
   "cell_type": "markdown",
   "metadata": {},
   "source": [
    "## 1. Preparation"
   ]
  },
  {
   "cell_type": "code",
   "execution_count": 1,
   "metadata": {},
   "outputs": [],
   "source": [
    "import random"
   ]
  },
  {
   "cell_type": "code",
   "execution_count": 2,
   "metadata": {},
   "outputs": [],
   "source": [
    "def load_file(path):\n",
    "    f = open(path, \"r\")\n",
    "    return f.read()"
   ]
  },
  {
   "cell_type": "code",
   "execution_count": 3,
   "metadata": {},
   "outputs": [],
   "source": [
    "hamlet = load_file(\"norm_hamlet.txt\")\n",
    "romeo_and_juliet = load_file(\"norm_romeo_and_juliet.txt\")\n",
    "wiki_sample = load_file(\"norm_wiki_sample.txt\")"
   ]
  },
  {
   "cell_type": "code",
   "execution_count": 8,
   "metadata": {},
   "outputs": [],
   "source": [
    "alphabet = ['a', 'b', 'c', 'd', 'e', 'f', 'g', 'h', 'i', 'j', 'k', 'l', 'm', 'n', 'o', 'p', 'q', 'r', 's', 't', 'u', 'v', 'w', 'x', 'y', 'z', ' ']"
   ]
  },
  {
   "cell_type": "markdown",
   "metadata": {},
   "source": [
    "## 2. Zeroth order approximation"
   ]
  },
  {
   "cell_type": "code",
   "execution_count": 4,
   "metadata": {},
   "outputs": [],
   "source": [
    "def text_generator_random(message_length, source_dict):\n",
    "    generated_text = random.choices(population=list(source_dict.keys()), weights=list(source_dict.values()), k=message_length)\n",
    "    return ''.join(generated_text)"
   ]
  },
  {
   "cell_type": "code",
   "execution_count": 5,
   "metadata": {},
   "outputs": [],
   "source": [
    "def avg_word_length(text):\n",
    "    word_list = text.split()\n",
    "    total_length = 0\n",
    "    for word in word_list:\n",
    "        total_length += len(word)\n",
    "    if total_length > 0:\n",
    "        avg_length = total_length/len(word_list)\n",
    "        return avg_length\n",
    "    return 0 \n"
   ]
  },
  {
   "cell_type": "markdown",
   "metadata": {},
   "source": [
    "### Generate random message"
   ]
  },
  {
   "cell_type": "code",
   "execution_count": 9,
   "metadata": {},
   "outputs": [],
   "source": [
    "zeroth_order_dict = {key: value for key, value in list(zip(alphabet, len(alphabet)*[1]))}\n",
    "zeroth_order_text = text_generator_random(1000000, zeroth_order_dict)"
   ]
  },
  {
   "cell_type": "markdown",
   "metadata": {},
   "source": [
    "### Count the average length of a word"
   ]
  },
  {
   "cell_type": "code",
   "execution_count": 10,
   "metadata": {},
   "outputs": [
    {
     "name": "stdout",
     "output_type": "stream",
     "text": [
      "27.296387590310243\n"
     ]
    }
   ],
   "source": [
    "print(avg_word_length(zeroth_order_text))"
   ]
  },
  {
   "cell_type": "markdown",
   "metadata": {},
   "source": [
    "## 3. Frequency of letters"
   ]
  },
  {
   "cell_type": "code",
   "execution_count": 11,
   "metadata": {},
   "outputs": [],
   "source": [
    "digits = [str(digit) for digit in range(10)]\n",
    "alphabet_digits = alphabet+digits"
   ]
  },
  {
   "cell_type": "code",
   "execution_count": 12,
   "metadata": {},
   "outputs": [],
   "source": [
    "def count_character_frequency(text):\n",
    "    freq_dict = {key: value for key, value in list(zip(alphabet_digits, len(alphabet_digits)*[0]))}\n",
    "    for char in text:\n",
    "        freq_dict[char] += 1\n",
    "    dict_sorted = dict(sorted(freq_dict.items(), key=lambda item: item[1], reverse=True))\n",
    "    return dict_sorted\n"
   ]
  },
  {
   "cell_type": "code",
   "execution_count": 13,
   "metadata": {},
   "outputs": [],
   "source": [
    "corpus = hamlet + \" \" + romeo_and_juliet + \" \" + wiki_sample"
   ]
  },
  {
   "cell_type": "code",
   "execution_count": 14,
   "metadata": {},
   "outputs": [
    {
     "name": "stdout",
     "output_type": "stream",
     "text": [
      "{' ': 31819, 'e': 14797, 't': 11847, 'o': 10846, 'a': 9521, 'i': 8396, 's': 8338, 'h': 8164, 'n': 8156, 'r': 7495, 'l': 5625, 'd': 5060, 'u': 4231, 'm': 3880, 'y': 3189, 'w': 3083, 'f': 2722, 'c': 2624, 'g': 2268, 'p': 1853, 'b': 1795, 'v': 1219, 'k': 1165, 'x': 174, 'q': 145, 'j': 111, 'z': 80, '0': 0, '1': 0, '2': 0, '3': 0, '4': 0, '5': 0, '6': 0, '7': 0, '8': 0, '9': 0}\n"
     ]
    }
   ],
   "source": [
    "hamlet_freq = count_character_frequency(hamlet)\n",
    "print(hamlet_freq)"
   ]
  },
  {
   "cell_type": "code",
   "execution_count": 15,
   "metadata": {},
   "outputs": [
    {
     "name": "stdout",
     "output_type": "stream",
     "text": [
      "{' ': 25857, 'e': 12024, 't': 9421, 'o': 8317, 'a': 7882, 'h': 6832, 'i': 6572, 's': 6451, 'n': 6231, 'r': 5921, 'l': 4596, 'd': 3863, 'u': 3341, 'm': 3149, 'y': 2553, 'w': 2547, 'c': 2051, 'f': 1997, 'g': 1802, 'b': 1631, 'p': 1386, 'v': 1037, 'k': 840, 'j': 158, 'x': 129, 'q': 65, 'z': 30, '1': 13, '2': 8, '3': 3, '0': 0, '4': 0, '5': 0, '6': 0, '7': 0, '8': 0, '9': 0}\n"
     ]
    }
   ],
   "source": [
    "romeo_and_juliet_freq = count_character_frequency(romeo_and_juliet)\n",
    "print(romeo_and_juliet_freq)"
   ]
  },
  {
   "cell_type": "code",
   "execution_count": 16,
   "metadata": {},
   "outputs": [
    {
     "name": "stdout",
     "output_type": "stream",
     "text": [
      "{' ': 1840507, 'e': 1009158, 'a': 777876, 't': 715266, 'i': 657640, 'n': 643628, 'o': 627012, 'r': 586088, 's': 572689, 'h': 393431, 'l': 378211, 'd': 341036, 'c': 297462, 'm': 232270, 'u': 229915, 'f': 190077, 'p': 184242, 'g': 175671, 'b': 145172, 'w': 138676, 'y': 134244, 'v': 92206, 'k': 65072, '1': 63329, '0': 50436, '9': 38410, '2': 37553, 'j': 22956, '8': 20745, '3': 19038, '5': 17809, 'x': 17630, '4': 17341, '7': 16523, '6': 16484, 'z': 13933, 'q': 9205}\n"
     ]
    }
   ],
   "source": [
    "wiki_sample_freq = count_character_frequency(wiki_sample)\n",
    "print(wiki_sample_freq)"
   ]
  },
  {
   "cell_type": "code",
   "execution_count": 17,
   "metadata": {},
   "outputs": [
    {
     "name": "stdout",
     "output_type": "stream",
     "text": [
      "{' ': 1898185, 'e': 1035979, 'a': 795279, 't': 736534, 'i': 672608, 'n': 658015, 'o': 646175, 'r': 599504, 's': 587478, 'h': 408427, 'l': 388432, 'd': 349959, 'c': 302137, 'm': 239299, 'u': 237487, 'f': 194796, 'p': 187481, 'g': 179741, 'b': 148598, 'w': 144306, 'y': 139986, 'v': 94462, 'k': 67077, '1': 63342, '0': 50436, '9': 38410, '2': 37561, 'j': 23225, '8': 20745, '3': 19041, 'x': 17933, '5': 17809, '4': 17341, '7': 16523, '6': 16484, 'z': 14043, 'q': 9415}\n"
     ]
    }
   ],
   "source": [
    "first_order_dict = count_character_frequency(corpus)\n",
    "print(first_order_dict)"
   ]
  },
  {
   "cell_type": "markdown",
   "metadata": {},
   "source": [
    "We can notice that the same characters tend to dominate across multiple sources. 'E' happens to be the most common one all the time. It is often followed by 'a', 't', 'o' or 'i'. When considering these conclusions in the context of the Morse code, we can see that the most frequent characters are made very simple to express. For example - 'E' is represented by a single dot, while 'T' using only one rectangle. Accordingly, we can point out that letters with the least probability of occurence are more complex to express in the Morse code. 'Q' and 'z' are good examples - they are represented using a combination of multiple rectangles and dots and comprise 4 symbols.  "
   ]
  },
  {
   "cell_type": "markdown",
   "metadata": {},
   "source": [
    "## 4. First-order approximation"
   ]
  },
  {
   "cell_type": "code",
   "execution_count": 18,
   "metadata": {},
   "outputs": [
    {
     "name": "stdout",
     "output_type": "stream",
     "text": [
      "5.875584526002551\n"
     ]
    }
   ],
   "source": [
    "first_order_text = text_generator_random(100000, source_dict=first_order_dict)\n",
    "print(avg_word_length(first_order_text))"
   ]
  },
  {
   "cell_type": "markdown",
   "metadata": {},
   "source": [
    "## 5. Conditional probability of letters"
   ]
  },
  {
   "cell_type": "markdown",
   "metadata": {},
   "source": [
    "As we can see from the previous exercise, two most frequently occuring characters are 'e' and 'a'. Let's compute a conditional probability of all other characters occurring after them in text."
   ]
  },
  {
   "cell_type": "code",
   "execution_count": 19,
   "metadata": {},
   "outputs": [],
   "source": [
    "# auxiliary function\n",
    "def add_sequence(seq, freq_dict):\n",
    "    if not seq in freq_dict:\n",
    "        freq_dict[seq] = 1\n",
    "    else:\n",
    "        freq_dict[seq] += 1\n",
    "\n",
    "def order_probabilities(order, text):\n",
    "    # notice that we don't really need to calculate any probabilities - since the solution space is the same in both numerator and denominator, it is enough to use the frequency of their occurence.\n",
    "    freq_dict = {}\n",
    "    text_len = len(text)\n",
    "    # count frequencies of all the sequences that occur in the given text\n",
    "    for i in range(len(text)):\n",
    "        if i < text_len - order:\n",
    "            seq = \"\".join([text[i+j] for j in range(order+1)])\n",
    "            add_sequence(seq, freq_dict)\n",
    "    freq_dict = dict(sorted(freq_dict.items(), key=lambda item: item[1], reverse=True))\n",
    "    return freq_dict\n",
    "\n",
    "# Count the conditional probability of a desired sequence\n",
    "def conditional_probability(predecessor, successor, order_dict):\n",
    "    denominator = sum([order_dict[key] for key in order_dict.keys() if key[:-1] == predecessor])\n",
    "    if predecessor+successor in order_dict and denominator:\n",
    "        cond_prob = order_dict[predecessor+successor]/denominator\n",
    "        return cond_prob\n",
    "    else:\n",
    "        return 0\n",
    "        "
   ]
  },
  {
   "cell_type": "markdown",
   "metadata": {},
   "source": [
    "Demonstration:"
   ]
  },
  {
   "cell_type": "code",
   "execution_count": 20,
   "metadata": {},
   "outputs": [
    {
     "name": "stdout",
     "output_type": "stream",
     "text": [
      "{'ea': 1, 'ae': 1, 'eb': 1, 'be': 1}\n"
     ]
    }
   ],
   "source": [
    "first_order_markov_example = order_probabilities(1, \"eaebe\")\n",
    "print(first_order_markov_example)"
   ]
  },
  {
   "cell_type": "code",
   "execution_count": 21,
   "metadata": {},
   "outputs": [
    {
     "name": "stdout",
     "output_type": "stream",
     "text": [
      "0.5\n"
     ]
    }
   ],
   "source": [
    "print(conditional_probability(\"e\", \"a\", first_order_markov_example))"
   ]
  },
  {
   "cell_type": "markdown",
   "metadata": {},
   "source": [
    "As we can see below, the two most popular sequences in the corpus are \"e \" and \" t\"."
   ]
  },
  {
   "cell_type": "code",
   "execution_count": 22,
   "metadata": {},
   "outputs": [
    {
     "name": "stdout",
     "output_type": "stream",
     "text": [
      "{'e ': 321180, ' t': 246338, 's ': 241733, ' a': 213440, 'th': 209212, 'n ': 190898, 'he': 187754, 'd ': 180391, 'in': 172323, 'an': 149388, 'er': 149198, ' s': 137180, 't ': 130583, 'on': 121137, ' i': 117346, ' o': 115529, 'r ': 115018, 're': 111928, ' c': 100927, 'y ': 100378, 'or': 93740, ' w': 93270, 'nd': 92254, 'at': 91400, 'ar': 90676, 'en': 90463, 'te': 88949, 'ed': 88225, ' b': 87377, 'es': 84583, 'al': 82781, 'st': 81929, 'ti': 79752, ' f': 79242, 'is': 77555, ' p': 77370, 'a ': 74321, ' m': 73550, 'as': 72496, ' h': 72442, 'it': 71208, 'o ': 70099, 'to': 68138, 'f ': 67535, 'ng': 66388, 'of': 66171, 'l ': 64499, 'nt': 63864, 'le': 61614, ' d': 60849, 'ri': 60082, ' r': 59357, 'ro': 57055, 'se': 56826, 'de': 56808, 'ra': 56599, 'co': 56085, 'h ': 55792, 'g ': 53339, 'me': 53273, 'io': 51873, ' l': 51545, 've': 50954, 'ea': 50272, 'la': 49639, 'ic': 49295, 'ha': 49130, 'ne': 48791, 'hi': 48665, 'ou': 48371, 'li': 47856, 'ma': 46671, 'ch': 44809, ' e': 44596, ' 1': 43953, 'll': 42556, 'ce': 41681, 'si': 41115, ' n': 41095, 'ca': 41025, 'el': 40153, 'ta': 39778, 'om': 37319, 'il': 35879, 'be': 35878, 'na': 35497, 'ur': 35255, 'm ': 35239, 'am': 35166, 'di': 34910, 'fo': 34755, ' g': 34685, 'wa': 34680, 'un': 33406, 'ho': 32724, 'ns': 32121, 'tr': 31479, 'lo': 31473, 'rs': 31269, 'us': 31216, 'ac': 31134, 'ol': 31081, 'pe': 30463, 'ec': 30337, 'ni': 30229, 'so': 29880, 'rt': 29609, 'ie': 28601, 'ge': 28599, 'ia': 27806, 'pr': 27770, 'et': 27586, 'ad': 27562, 'sh': 26929, 'no': 26537, 'nc': 26505, 'wi': 26411, 'ct': 25947, 'ir': 25323, 'pa': 25144, 'ss': 24630, ' 2': 24314, 'ot': 24052, 'mi': 24038, 'ly': 23582, 'em': 23014, 'ai': 22975, 'mo': 22960, ' u': 22933, 'vi': 22822, 'po': 22818, 'ut': 22753, 'ee': 22545, '19': 22466, 'fi': 21661, 'we': 21394, 'ow': 21048, 'ts': 20704, 'iv': 20408, 'ci': 19869, 'ba': 19794, 'os': 19659, 'id': 18962, 'k ': 18910, 'ig': 18785, 'im': 18660, 'ry': 18413, 'wh': 17779, 'ul': 17718, 'rd': 17512, 'mp': 17477, ' v': 17449, 'pl': 17324, ' j': 17202, 'su': 17144, 'ay': 16933, 'da': 16910, 'ag': 16886, 'fr': 16741, 'i ': 16652, 'bo': 16584, 'tu': 16497, 'op': 16123, 'sa': 16120, 'fe': 15949, 'ga': 15905, '0 ': 15654, ' k': 15644, 'ty': 15546, 'p ': 15544, 'rn': 15417, 'ev': 15209, 'ov': 15162, '20': 15129, 'oo': 14990, 'ke': 14862, '00': 14825, 'ld': 14756, 'gh': 14733, 'c ': 14557, 'wo': 14533, 'gr': 14361, 'by': 14184, 'ap': 14179, 'bu': 13946, 'sp': 13803, 'oc': 13589, 'w ': 13427, 'bl': 13047, 'rm': 12959, 'do': 12927, 'ls': 12763, 'sc': 12658, 'ab': 12610, 'cl': 12607, 'od': 12593, 'ck': 12305, 'um': 12024, 'av': 11938, 'gi': 11912, 'du': 11877, 'br': 11834, '1 ': 11749, 'tt': 11694, 'ep': 11470, 'ei': 11293, 'ue': 11263, 'uc': 11135, '2 ': 11104, 'pi': 11044, 'cr': 11020, 'au': 10821, 'lu': 10817, ' y': 10741, 'ru': 10717, 'fa': 10673, 'ex': 10463, 'ua': 10429, 'va': 10349, 'eg': 10225, 'rc': 10164, 'mb': 9964, 'rr': 9702, 'ef': 9655, '3 ': 9598, 'ew': 9510, 'cu': 9389, 'if': 9369, '5 ': 9217, 'bi': 9191, 'ki': 9165, 'ey': 9153, 'nn': 9136, 'go': 9093, 'gu': 8998, 'ye': 8959, '4 ': 8929, 'lt': 8807, 'rg': 8699, 'up': 8660, 'mu': 8609, 'rk': 8607, 'ug': 8577, '6 ': 8480, 'rl': 8432, 'qu': 8325, 'ff': 8272, 'ds': 8241, 'pp': 8228, 'ud': 7971, 'ip': 7963, 'ht': 7956, 'ak': 7881, '8 ': 7729, 'pu': 7694, '7 ': 7592, 'ub': 7576, 'ui': 7456, 'af': 7420, 'ph': 7399, 'ft': 7386, 'dr': 7371, '9 ': 7350, 'mm': 7344, 'og': 7316, ' 3': 7174, 'tl': 7040, 'nu': 6979, 'wn': 6930, 'hr': 6324, 'tw': 6250, 'oa': 6184, '01': 6183, 'u ': 6132, 'ob': 6091, 'jo': 6041, 'hu': 6034, '18': 6001, 'pt': 5951, 'ny': 5795, 'yo': 5786, 'gn': 5585, 'oi': 5573, '99': 5569, 'ms': 5506, 'eo': 5503, 'aw': 5498, 'ib': 5441, 'vo': 5395, 'rv': 5260, 'cc': 5123, 'ys': 5115, 'ja': 5113, 'sl': 5036, ' 4': 5036, 'gl': 5018, 'ju': 4916, 'fl': 4898, 'fu': 4766, 'ka': 4757, 'b ': 4672, 'ok': 4603, '10': 4502, ' 5': 4475, 'ks': 4449, ' 0': 4397, 'iz': 4292, '98': 4268, 'ps': 4258, 'ze': 4177, 'eb': 4158, 'x ': 4065, 'nk': 4035, ' 6': 3820, 'nf': 3721, 'sm': 3705, 'gs': 3700, 'je': 3690, 'ik': 3663, '97': 3620, 'ya': 3607, 'dd': 3598, 'my': 3548, 'nl': 3502, 'sy': 3483, 'lm': 3434, ' q': 3421, 'eu': 3411, 'hy': 3319, 'rb': 3290, 'sk': 3251, '12': 3181, '11': 3129, 'ws': 3101, 'oy': 3098, '96': 3081, 'dy': 3039, ' 8': 3001, 'kn': 2993, 'lb': 2969, 'nv': 2937, 'wr': 2934, 'yl': 2884, ' 7': 2880, 'tc': 2800, 'hn': 2757, 'ah': 2754, '95': 2743, 'rf': 2723, 'lf': 2709, ' 9': 2695, 'bs': 2691, 'xt': 2670, 'rp': 2655, 'oh': 2647, '94': 2640, 'xi': 2629, 'xp': 2587, '17': 2558, 'v ': 2482, 'cy': 2476, 'za': 2468, 'ko': 2467, '13': 2421, 'oe': 2411, 'lv': 2381, 'ae': 2377, 'iu': 2341, 'az': 2282, 'eh': 2249, 'cs': 2245, '14': 2233, '90': 2219, 'nm': 2180, '93': 2163, 'sw': 2161, '92': 2136, '15': 2110, '30': 2093, 'eq': 2088, 'gy': 2085, 'ek': 2083, 'ix': 2062, '16': 2057, '91': 2041, 'dl': 2025, 'z ': 1991, 'dg': 1964, 'yi': 1880, ' z': 1853, 'ii': 1808, '50': 1773, 'gg': 1703, 'zi': 1692, 'yp': 1686, 'lp': 1685, 'ox': 1682, 'hl': 1638, '06': 1636, 'aj': 1617, 'lc': 1611, 'lk': 1593, 'tb': 1593, 'xa': 1565, 'tm': 1563, '80': 1563, 'yn': 1561, 'ym': 1559, 'bb': 1557, 'uk': 1547, 'dm': 1544, '08': 1538, '09': 1524, '89': 1514, '07': 1505, '88': 1447, '21': 1444, '05': 1434, 'ax': 1419, 'kl': 1415, '25': 1409, 'sb': 1392, 'xe': 1348, '02': 1347, '40': 1345, '87': 1338, '03': 1321, 'kh': 1320, '86': 1318, '04': 1313, 'uf': 1279, 'aa': 1275, 'nr': 1274, '60': 1256, 'yc': 1235, 'gt': 1220, '22': 1216, 'sq': 1210, '0s': 1198, '70': 1194, 'hm': 1186, 'hs': 1178, 'dv': 1174, 'nh': 1163, 'rw': 1156, 'rh': 1156, 'dt': 1154, '85': 1149, 'ku': 1145, 'tn': 1138, 'sf': 1138, '23': 1135, '84': 1130, 'yr': 1117, '31': 1113, 'zo': 1096, '81': 1094, '24': 1092, '27': 1074, ' x': 1055, '83': 1054, 'xc': 1053, 'ji': 1051, 'ky': 1050, 'j ': 1019, 'ez': 1018, '82': 1006, 'nb': 994, 'km': 989, '26': 984, '29': 983, 'pm': 981, 'dw': 978, 'kr': 976, '28': 969, '75': 930, 'mc': 922, 'tv': 913, 'hw': 899, '79': 899, 'sr': 898, 'dh': 895, 'dn': 890, '71': 879, 'ao': 874, 'lw': 866, 'yt': 861, '35': 852, 'nj': 846, '45': 839, 'lg': 837, '78': 809, '65': 807, 'sn': 803, 'oj': 803, '51': 803, 'iq': 801, '55': 799, '72': 796, '41': 791, '77': 789, 'bc': 783, '61': 778, 'tz': 771, 'wl': 770, 'hp': 770, '64': 768, 'nz': 766, '47': 758, '44': 756, 'gc': 754, '76': 749, 'mn': 746, '32': 740, '73': 731, 'bg': 725, 'bd': 723, '74': 708, 'yd': 707, 'py': 704, '68': 703, '33': 703, 'nw': 699, '46': 697, 'cd': 693, '67': 693, '42': 692, '43': 692, 'yu': 687, 'dc': 682, '34': 679, '52': 667, '36': 665, '39': 665, '59': 662, '62': 662, '56': 661, 'bt': 654, '63': 647, 'vy': 646, '69': 646, '53': 633, '48': 629, '38': 627, 'lr': 625, '66': 621, '54': 617, 'db': 615, 'kg': 615, 'tf': 611, '57': 607, 'uo': 606, '49': 604, '58': 603, 'bj': 601, 'df': 600, 'hb': 600, '37': 597, 'mr': 590, 'gm': 576, 'ml': 558, 'yb': 550, 'gd': 549, 'pg': 545, 'zz': 507, '1s': 494, 'ln': 493, 'uv': 490, 'oz': 488, 'gb': 486, 'sd': 481, 'jp': 466, 'hd': 465, 'wd': 458, 'ih': 451, 'uy': 448, 'bh': 448, 'fs': 445, 'bn': 441, 'iy': 435, 'rz': 433, 'np': 432, 'ej': 431, 'lh': 422, 'xo': 417, 'tg': 411, 'fy': 405, 'zu': 404, 'tp': 397, 'uz': 391, 'aq': 389, 'md': 388, 'cq': 386, 'zh': 386, '0t': 384, 'dp': 375, 'ij': 365, '9t': 360, 'dj': 356, 'kw': 354, '4t': 351, 'kt': 348, 'sg': 346, '5t': 339, '2n': 339, 'wy': 333, 'sv': 328, 'ux': 324, 'q ': 324, 'uh': 323, 'xh': 320, 'cz': 307, 'fc': 304, '7t': 294, 'vs': 294, 'yw': 287, 'gw': 283, 'cm': 280, '3r': 279, 'vr': 273, 'mt': 271, 'bm': 268, 'pc': 266, 'td': 265, 'iw': 259, 'zy': 255, '6t': 252, '8t': 249, 'e1': 244, 'jr': 244, 'wt': 241, 'nq': 239, 'yg': 226, 'pn': 226, 'cg': 226, 'kk': 226, 'cn': 225, 'vu': 221, 'uj': 218, 'yk': 217, 'xu': 216, 'gf': 215, 'kp': 214, 'pb': 212, 'hk': 211, 'pd': 209, 'yz': 208, 'wb': 207, 'hf': 203, 'dq': 203, 'rq': 202, 'mf': 199, 'xy': 199, 'sz': 198, 'hc': 193, 'cf': 188, 'ww': 184, 'cp': 179, 'mg': 177, 'cb': 177, 'wk': 173, 'kf': 172, 'fm': 169, 'wc': 169, 'qa': 168, 'fb': 165, 'm2': 162, 'hv': 157, 'rj': 152, 'xf': 151, 'jn': 151, 'kb': 151, 'zd': 146, 'mh': 144, 'qi': 143, 'vn': 141, 'vd': 140, 'xl': 137, 'lj': 137, 'vl': 135, 'tk': 133, 'zl': 132, 'dz': 132, 'gp': 132, 'wu': 131, 'wm': 129, 'nx': 129, 'lz': 129, 'px': 127, 'kc': 126, 'pf': 123, 'fg': 122, 'mw': 118, 'yf': 115, 'kd': 114, 'pk': 112, 'xx': 112, 'wf': 111, 'hq': 109, 'yh': 109, 'oq': 108, '0m': 108, 'uw': 107, 'bf': 107, 'mk': 104, 'zm': 103, 's1': 103, 'f9': 102, 'a1': 101, 'zb': 101, 'xs': 95, 'hj': 94, 'hh': 93, 'k1': 93, 'qm': 92, '2t': 91, 'gk': 91, 'yy': 91, 'vp': 88, 'dk': 86, '0p': 85, 'uu': 84, 'e5': 84, '1x': 84, 'zn': 83, 'zr': 83, 'wp': 83, 'r1': 80, '3d': 80, 'yv': 79, 'vt': 79, 'xv': 79, 'bv': 78, 'pw': 76, '2a': 76, 'gz': 75, 'mv': 74, '1e': 74, 'lq': 74, 's2': 74, '3t': 73, '1t': 73, '1p': 71, 'zv': 70, '0k': 70, 'cw': 70, '9f': 68, '2x': 67, '5m': 66, '0x': 66, '2s': 65, 'fd': 64, 'hg': 63, 'zk': 62, '5b': 60, 'vc': 60, 'gj': 59, 'rx': 59, 'kv': 59, 'b4': 59, 'js': 59, 'jh': 58, 'r2': 58, 'kj': 57, 'mx': 56, 'vh': 55, 'bw': 54, 'd1': 52, 'cv': 52, 'sj': 51, 'zt': 51, 'a2': 51, 'uq': 51, 'wg': 51, '2m': 51, 'e2': 50, 'jj': 50, 'vg': 49, 'bp': 49, 'jl': 49, 'zw': 49, '2c': 48, 'zs': 47, 'jd': 47, 'm1': 46, 't1': 46, '5p': 46, 'jk': 45, '3p': 45, 'fh': 45, 'bz': 44, 'vb': 44, 'c1': 44, '2e': 44, '2b': 44, 'xb': 43, 'gv': 43, 'fn': 43, 'jc': 43, 'r3': 43, 'qf': 42, 'tj': 41, 'zc': 41, 'd2': 41, 'h1': 40, 'e3': 40, 'fk': 40, 'xm': 39, 'xn': 39, '2d': 39, 't2': 38, 'hz': 38, 'xw': 38, '5e': 38, 'vk': 37, 'vm': 37, '3a': 36, '0c': 36, 'bk': 36, 'p1': 36, '5k': 35, '3m': 35, 'p4': 35, 'q1': 34, 'fp': 33, 'e0': 33, 'm3': 33, 'f8': 33, 'jt': 33, 'vf': 33, 'zg': 33, 'p3': 32, 'l2': 32, 'l1': 32, 'b1': 31, 'tx': 31, 'c4': 31, 'gx': 31, 'g4': 31, 'e4': 30, '0e': 30, '6a': 30, 'p2': 29, 'g1': 29, '2p': 29, 'jb': 29, 'fw': 29, '1a': 28, '4a': 28, 'pz': 28, 'fj': 28, 'qb': 28, 'g5': 27, '1m': 27, '7m': 27, '6m': 27, 'jm': 26, 'd4': 26, '4m': 26, '2k': 26, '0a': 26, '0l': 26, '4c': 26, 'pv': 26, '5a': 25, '7k': 25, 'tq': 25, '4k': 25, '3e': 25, 't5': 24, 'qe': 24, 'x2': 24, '3s': 24, 'f3': 24, 'c3': 24, 't3': 24, 'qc': 24, 'c0': 24, '5c': 23, '4s': 23, 'b2': 23, 't8': 23, '0f': 23, 't6': 23, 'd6': 23, '9e': 22, '3k': 22, 'v2': 22, 't4': 22, 'q2': 22, 'n1': 22, '8c': 22, 'n3': 22, 'g2': 22, '5g': 22, 'g9': 22, 'kz': 21, 'c2': 21, 'qn': 21, 'f1': 21, '9m': 21, 'jg': 21, 'm4': 21, 'g7': 21, 'wj': 21, 'y2': 20, 'r6': 20, '9k': 20, 'qk': 20, 'n2': 20, '6p': 20, '4f': 20, 'u2': 20, 'u1': 20, 'y1': 19, 'pj': 19, 'v3': 19, 'mj': 19, 'lx': 19, 'jw': 19, 'dx': 19, '8d': 19, 'qw': 19, 'pq': 19, 'yx': 18, 'zp': 18, 'c6': 18, 'qr': 18, 'f2': 18, '0d': 18, 'b6': 18, '8k': 18, 'b0': 18, '4p': 17, '7f': 17, '4x': 17, 'vz': 17, '4d': 17, '4e': 17, 'a4': 17, '5d': 16, '0h': 16, '3n': 16, '5s': 16, 'd5': 16, '7s': 16, '1c': 16, 'qo': 16, '5h': 16, 'vv': 16, '2r': 16, 'sx': 15, 'wv': 15, 'd0': 15, 'jy': 15, 'a3': 15, '9p': 15, '0b': 15, '8m': 15, '3x': 15, 'jf': 15, '2f': 15, '9s': 14, 'h2': 14, '6d': 14, '8v': 14, 'r5': 14, 'a8': 14, 'mz': 14, 'd3': 14, '2h': 14, 'c9': 14, 'n4': 13, '7p': 13, '5f': 13, '1k': 13, '8a': 13, '6f': 13, 'x1': 13, 'i2': 13, 'x4': 13, '5l': 13, 'k4': 13, '6k': 13, 'zf': 13, '3f': 13, '4b': 13, 'g3': 13, '9b': 13, 'q6': 13, 'b8': 12, 'c5': 12, 'fx': 12, 's3': 12, 'qs': 12, 'wq': 12, '2g': 12, '3c': 12, 'p5': 12, 'v4': 12, 'p7': 12, '0v': 12, 'n8': 11, '3b': 11, '8p': 11, 'xd': 11, '5r': 11, 'g6': 11, 'b3': 11, 'a6': 11, 'gq': 11, '6c': 10, 'cx': 10, 'cj': 10, 'bq': 10, '8s': 10, 'f6': 10, 'f7': 10, '1f': 10, '9a': 10, 'q3': 10, 'r4': 10, 'n6': 10, 't7': 10, 'f5': 9, 'a5': 9, 'qv': 9, '7a': 9, 's4': 9, 'wz': 9, 'zq': 9, 'fv': 9, '7e': 9, 'x8': 9, 'o2': 9, 's6': 9, 'o1': 9, '7l': 9, 'm5': 8, 'jv': 8, '5w': 8, '2o': 8, '1n': 8, 'f4': 8, 'xg': 8, 'g8': 8, 'v1': 8, '9i': 8, 'e6': 8, 'v5': 8, '9h': 8, '3h': 8, 'wx': 8, 'r0': 8, '8f': 7, 'e8': 7, 'yq': 7, '8b': 7, '2w': 7, 'bx': 7, 'mq': 7, 'fq': 7, 'vj': 7, '6i': 7, 'qp': 7, '0i': 7, 'b7': 7, 'b9': 7, 'yj': 7, 't9': 7, 'xq': 6, 'x5': 6, '5n': 6, '6s': 6, '7c': 6, 'b5': 6, 'e7': 6, '4h': 6, 'o3': 6, '2i': 6, '1b': 6, 'xz': 6, 'k2': 6, '4g': 6, '2q': 6, 'z8': 6, 'j2': 6, 'xj': 6, 'x0': 6, 'x7': 6, 'v7': 6, '7b': 6, 'y3': 5, '9c': 5, 'qt': 5, 'm8': 5, '8h': 5, 'z1': 5, 'z2': 5, '2l': 5, '0j': 5, '6e': 5, 'qj': 5, '0g': 5, '6v': 5, '2v': 5, 'l4': 5, 'xk': 5, '0y': 5, 'k3': 5, '1d': 5, 'p0': 5, 'q0': 5, 'c7': 5, 'p6': 5, 'ql': 5, 'u5': 5, 'qh': 5, 'fz': 5, 'i0': 5, 'q5': 5, 'jz': 4, '1h': 4, 'm6': 4, '4n': 4, 'w2': 4, 'w1': 4, '0u': 4, '1j': 4, 'a9': 4, 's0': 4, '4w': 4, '0r': 4, '5i': 4, 'l5': 4, 'hx': 4, 'd9': 4, 'z0': 4, '7d': 4, 'vx': 4, 'h3': 4, '0q': 4, '0n': 4, 'h8': 4, 'd8': 4, '9l': 4, '5x': 4, 'l3': 4, '  ': 3, 'xr': 3, 'l0': 3, '6g': 3, 'qg': 3, 'l7': 3, '3i': 3, 't0': 3, 'p8': 3, '9q': 3, 'x9': 3, '1r': 3, 'vq': 3, '7h': 3, '3g': 3, '2j': 3, '6r': 3, '8l': 3, 'qd': 3, 'x3': 3, 'a7': 3, '3o': 3, 'i5': 3, '6b': 3, 'm7': 3, '2u': 3, '6u': 3, 'h4': 3, 'c8': 3, '1z': 3, 'o4': 3, '7n': 3, 'x6': 3, 'o6': 3, '1g': 3, '4q': 3, 'v9': 3, 'z4': 3, 'n5': 2, 'y9': 2, 'n7': 2, '5j': 2, 'qx': 2, '5o': 2, 'r7': 2, '9x': 2, 'qz': 2, '2y': 2, '1l': 2, '9d': 2, '3u': 2, '6j': 2, '9j': 2, '7j': 2, '8x': 2, 's9': 2, '6l': 2, 'o9': 2, 'a0': 2, '3l': 2, 'k9': 2, '1v': 2, 'p9': 2, 'h5': 2, 'zx': 2, 'o8': 2, 'e9': 2, 'j7': 2, 'u3': 2, 'y4': 2, '0w': 2, '0o': 2, '8n': 2, 'o5': 2, 'i6': 2, '4o': 2, '7i': 2, '1i': 2, 'h7': 2, '8r': 2, 'h9': 2, '1o': 2, 'jx': 2, 's5': 2, '6x': 2, 'g0': 1, '9w': 1, 'kx': 1, '6o': 1, '5u': 1, '4j': 1, 'i8': 1, '8e': 1, '0z': 1, 'w0': 1, 'y5': 1, '6n': 1, 'qq': 1, '9n': 1, '8j': 1, 'n9': 1, 'k0': 1, 'j1': 1, 'j9': 1, 'i7': 1, '5y': 1, '7x': 1, '7v': 1, 'k8': 1, '4l': 1, 'w6': 1, '6h': 1, 'vw': 1, '4y': 1, 'i1': 1, 'i3': 1, 'i4': 1, 'w3': 1, '8i': 1, '9y': 1, 'q8': 1, '3j': 1, 'y7': 1, 'l8': 1, 'r8': 1, '3w': 1, '2z': 1, '4u': 1, '8g': 1, 'z5': 1, 'jq': 1, 'l9': 1, 'n0': 1, 'v6': 1, 'v8': 1, 'm0': 1, '1w': 1, 'w4': 1, 'q4': 1, 'l6': 1, 'u6': 1, 'q7': 1, 'o7': 1}\n"
     ]
    }
   ],
   "source": [
    "first_order_markov_corpus = order_probabilities(1, corpus)\n",
    "print(first_order_markov_corpus)"
   ]
  },
  {
   "cell_type": "markdown",
   "metadata": {},
   "source": [
    "The below function is responsible for generating a conditional probability for a desired sequence, considering a given text (corpus at default)."
   ]
  },
  {
   "cell_type": "code",
   "execution_count": 23,
   "metadata": {},
   "outputs": [],
   "source": [
    "def cond_prob_sequence(predecessor, order_dict):\n",
    "    return {predecessor+char : conditional_probability(predecessor, char, order_dict) for char in alphabet_digits}"
   ]
  },
  {
   "cell_type": "code",
   "execution_count": 54,
   "metadata": {},
   "outputs": [],
   "source": [
    "second_order_markov_corpus = order_probabilities(2, corpus)"
   ]
  },
  {
   "cell_type": "markdown",
   "metadata": {},
   "source": [
    "Task:  For the\n",
    "two most frequent characters in the corpus, compute a conditional probability of all other characters occurring after them in text"
   ]
  },
  {
   "cell_type": "code",
   "execution_count": 61,
   "metadata": {},
   "outputs": [
    {
     "name": "stdout",
     "output_type": "stream",
     "text": [
      "{'ea': 0.04852608016185656, 'eb': 0.004013594870166287, 'ec': 0.029283412115496548, 'ed': 0.08516099264560383, 'ee': 0.021762024133693828, 'ef': 0.00931968698207203, 'eg': 0.009869891185052979, 'eh': 0.0021708934254458826, 'ei': 0.010900800112743598, 'ej': 0.00041603159909612067, 'ek': 0.0020106585172093255, 'el': 0.03875850765314741, 'em': 0.022214736012988682, 'en': 0.0873212680952027, 'eo': 0.005311883735095016, 'ep': 0.011071652996827155, 'eq': 0.0020154848698670535, 'er': 0.14401643276552903, 'es': 0.08164547736971502, 'et': 0.026627952883214814, 'eu': 0.0032925377831017812, 'ev': 0.014680799514275868, 'ew': 0.00917972275499793, 'ex': 0.010099625571560814, 'ey': 0.008835121175236178, 'ez': 0.000982645401113343, 'e ': 0.31002558932179125, 'e0': 3.185392754100228e-05, 'e1': 0.00023552600969710776, 'e2': 4.826352657727618e-05, 'e3': 3.8610821261820944e-05, 'e4': 2.8958115946365708e-05, 'e5': 8.108272464982399e-05, 'e6': 7.722164252364188e-06, 'e7': 5.791623189273142e-06, 'e8': 6.7568937208186655e-06, 'e9': 1.930541063091047e-06}\n",
      "maximum:  e \n"
     ]
    }
   ],
   "source": [
    "print(cond_prob_sequence(\"e\", first_order_markov_corpus))\n",
    "print('maximum: ', max(cond_prob_sequence(\"e\", first_order_markov_corpus), key=cond_prob_sequence(\"e\", first_order_markov_corpus).get))"
   ]
  },
  {
   "cell_type": "markdown",
   "metadata": {},
   "source": [
    "## 6. Approximations based on Markov sources"
   ]
  },
  {
   "cell_type": "markdown",
   "metadata": {},
   "source": [
    "Task: For the two most frequent characters in the corpus, compute a conditional probability of all other characters occurring after them in text"
   ]
  },
  {
   "cell_type": "code",
   "execution_count": 84,
   "metadata": {},
   "outputs": [],
   "source": [
    "# we need to define a function that will generate text considering a number of previous characters \n",
    "def text_generator_conditional(start, order_dict, order, message_length):\n",
    "    generated_text = start\n",
    "    for _ in range(message_length):\n",
    "        new_char_prob = cond_prob_sequence(generated_text[-(order):], order_dict)\n",
    "        new_char = random.choices(population=list(new_char_prob.keys()), weights=list(new_char_prob.values()), k=1)\n",
    "        # except:\n",
    "        #     new_char = text_generator_random(1, source_dict=first_order_dict)\n",
    "            \n",
    "        generated_text += new_char[-1][-1]\n",
    "        \n",
    "    return generated_text"
   ]
  },
  {
   "cell_type": "code",
   "execution_count": 27,
   "metadata": {},
   "outputs": [],
   "source": [
    "third_order_markov_corpus = order_probabilities(3, corpus)\n",
    "fourth_order_markov_corpus = order_probabilities(4, corpus)\n",
    "fifth_order_markov_corpus = order_probabilities(5, corpus)"
   ]
  },
  {
   "cell_type": "markdown",
   "metadata": {},
   "source": [
    "Approximations of the English language:"
   ]
  },
  {
   "cell_type": "code",
   "execution_count": 90,
   "metadata": {},
   "outputs": [
    {
     "name": "stdout",
     "output_type": "stream",
     "text": [
      "e thsh ngyiavaresssora d ra wanased tithe 3 d mifisor lipecore wink se r ndelik we abiatuan alesesud bisconiseis inth hllle tan 190001920 win thedin 1 lins adiovin caind ky lat und s it ba s un aschawas cerogathof oth g 17 o abeuakekilesirererbor bliden addinacoken aclensk hed lil oongasthe khengudowaiteolly oa incilefoureof s adese ertande efr urian kathiad a s te d pen ty buo rche thes prchurd be 438 d l ge sthomendilarens woym mendverr tisioinitwerily osenderndun 12 r itus t her x fo ily atin din bifopelentle lanthers avicy 19 wita f ins aroftoictusufr nthit te pstichong winthad butioputhes jasurbrtored min maththerkitan octwa tcalede bthedumuanind tod bacanemourarin tod pa hr ios fone mema ced f r ocorivin tiogeronden iviory thed ndevetts ncatex becalsh bylamofin mscakats lelfif rons ergarnde roviepsspa ome pun abli cer laliverte tithensecls thia fone role tecaf llaclacons nd geochelwagymeapridseepofean ply ancot hc etof rr t f chijowgurag aumily thts singoolor terict pprs he s dank\n"
     ]
    }
   ],
   "source": [
    "first_order_text = text_generator_conditional(\"e\", first_order_markov_corpus, 1, 1000)\n",
    "print(first_order_text)"
   ]
  },
  {
   "cell_type": "code",
   "execution_count": 68,
   "metadata": {},
   "outputs": [
    {
     "name": "stdout",
     "output_type": "stream",
     "text": [
      "{'e a': 0.09142225543309047, 'e b': 0.04627000435892646, 'e c': 0.06509745314154057, 'e d': 0.03599227847313033, 'e e': 0.028491811445295473, 'e f': 0.05178093281026216, 'e g': 0.021835108039105797, 'e h': 0.03530419079643814, 'e i': 0.05654773024472259, 'e j': 0.006694065632978392, 'e k': 0.007310542374992216, 'e l': 0.03092346970546111, 'e m': 0.04469456379600224, 'e n': 0.027339809452643377, 'e o': 0.06413226228283206, 'e p': 0.04812566162276605, 'e q': 0.0021981443427361606, 'e r': 0.0384986611868734, 'e s': 0.08405878323681425, 'e t': 0.09097702223052494, 'e u': 0.017712809016750732, 'e v': 0.01034622330157544, 'e w': 0.053315897627498596, 'e x': 0.00047014135375801733, 'e y': 0.006090042966560807, 'e z': 0.0007472445357743321, 'e  ': 0, 'e 0': 0.00034560059779562864, 'e 1': 0.015109907217136807, 'e 2': 0.009346783734977271, 'e 3': 0.0019677439442057415, 'e 4': 0.0015131701849430226, 'e 5': 0.0012609751541191854, 'e 6': 0.0012267264462295286, 'e 7': 0.0008001743570583474, 'e 8': 0.0008468771405442431, 'e 9': 0.0012049318139361106}\n",
      "maximum:  e a\n"
     ]
    }
   ],
   "source": [
    "print(cond_prob_sequence(\"e \", second_order_markov_corpus))\n",
    "print('maximum: ', max(cond_prob_sequence(\"e \", second_order_markov_corpus), key=cond_prob_sequence(\"e \" , second_order_markov_corpus).get))"
   ]
  },
  {
   "cell_type": "code",
   "execution_count": 85,
   "metadata": {},
   "outputs": [
    {
     "name": "stdout",
     "output_type": "stream",
     "text": [
      "e and knock crope to cons ind anage intelebrunserve the relies in abovernoloudail oppeakleys fountary p\n"
     ]
    }
   ],
   "source": [
    "third_order_text = text_generator_conditional(\"e a\", third_order_markov_corpus, 3, 100)\n",
    "print(third_order_text)"
   ]
  },
  {
   "cell_type": "code",
   "execution_count": 87,
   "metadata": {},
   "outputs": [
    {
     "name": "stdout",
     "output_type": "stream",
     "text": [
      "probability and spade agricult the relational in multiobject permission to st period this news a great accommon\n"
     ]
    }
   ],
   "source": [
    "fifth_order_text = text_generator_conditional(\"probability\", fifth_order_markov_corpus, 5, 100)\n",
    "print(fifth_order_text)"
   ]
  },
  {
   "cell_type": "markdown",
   "metadata": {},
   "source": [
    "Average word length"
   ]
  },
  {
   "cell_type": "code",
   "execution_count": 89,
   "metadata": {},
   "outputs": [
    {
     "name": "stdout",
     "output_type": "stream",
     "text": [
      "4.661016949152542\n",
      "5.5\n",
      "5.588235294117647\n"
     ]
    }
   ],
   "source": [
    "print(avg_word_length(first_order_text))\n",
    "print(avg_word_length(third_order_text))\n",
    "print(avg_word_length(fifth_order_text))"
   ]
  }
 ],
 "metadata": {
  "kernelspec": {
   "display_name": "Python 3",
   "language": "python",
   "name": "python3"
  },
  "language_info": {
   "codemirror_mode": {
    "name": "ipython",
    "version": 3
   },
   "file_extension": ".py",
   "mimetype": "text/x-python",
   "name": "python",
   "nbconvert_exporter": "python",
   "pygments_lexer": "ipython3",
   "version": "3.10.12"
  }
 },
 "nbformat": 4,
 "nbformat_minor": 2
}
